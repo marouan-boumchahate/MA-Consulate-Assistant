{
 "cells": [
  {
   "cell_type": "markdown",
   "id": "6236bb2b-e8ba-4271-b5ab-52e2d0b13225",
   "metadata": {},
   "source": [
    "# Import Libs"
   ]
  },
  {
   "cell_type": "code",
   "execution_count": 2,
   "id": "ff5dbbb1-ebb5-4f3b-ad83-b9fbc0f5aac2",
   "metadata": {},
   "outputs": [],
   "source": [
    "import os\n",
    "from dotenv import load_dotenv\n",
    "from openai import OpenAI\n",
    "import gradio as gr"
   ]
  },
  {
   "cell_type": "markdown",
   "id": "9797057b-9821-41f3-895a-159c693e137c",
   "metadata": {},
   "source": [
    "# Load the OpenAI key"
   ]
  },
  {
   "cell_type": "code",
   "execution_count": 3,
   "id": "18ba16b8-0aed-48df-88f8-c2c09ff533b1",
   "metadata": {},
   "outputs": [
    {
     "name": "stdout",
     "output_type": "stream",
     "text": [
      "OpenAI API Key exists and begins sk-proj-\n"
     ]
    }
   ],
   "source": [
    "load_dotenv(override=True)\n",
    "openai_api_key = os.getenv('OPENAI_API_KEY')\n",
    "\n",
    "if openai_api_key:\n",
    "    print(f\"OpenAI API Key exists and begins {openai_api_key[:8]}\")\n",
    "else:\n",
    "    print(\"OpenAI API Key not set\")"
   ]
  },
  {
   "cell_type": "markdown",
   "id": "676ec6e1-da4d-4847-b1d0-aa0b959a0937",
   "metadata": {},
   "source": [
    "# Initializing The Model"
   ]
  },
  {
   "cell_type": "code",
   "execution_count": 4,
   "id": "3050315b-15b2-4c60-a6b4-af890b405737",
   "metadata": {},
   "outputs": [],
   "source": [
    "openai = OpenAI()\n",
    "MODEL = 'gpt-4o-mini'"
   ]
  },
  {
   "cell_type": "markdown",
   "id": "0104acda-a4d5-4e8d-9bee-8e1838c004fe",
   "metadata": {},
   "source": [
    "# Preparing the System Prompt"
   ]
  },
  {
   "cell_type": "code",
   "execution_count": 5,
   "id": "49f0aabf-58da-4aa7-ac99-fe4cfa02daec",
   "metadata": {},
   "outputs": [],
   "source": [
    "system_content = \"\"\"\n",
    "You are an assistant for the Moroccan Consulate website. Your role is to guide users step by step through the process of creating an account, applying for an appointment, submitting documents, and scheduling a visit. You must provide clear, friendly, and concise responses, referencing the appropriate steps when needed.\n",
    "\n",
    "Always follow these key instructions:\n",
    "\n",
    "---\n",
    "Account Creation\n",
    "- Instruct users to click \"Create an account\".\n",
    "- Guide them to fill the subscription form correctly, check the conditions box, and click \"Subscribe\".\n",
    "- Explain that they’ll receive a verification code by email and must enter it online.\n",
    "- Remind them that the password must include uppercase and lowercase letters, numbers, and special characters (minimum 8 characters).\n",
    "\n",
    "---\n",
    "Logging In\n",
    "- Instruct to enter email, password, solve captcha, and click \"Connect\".\n",
    "- If they forgot their password, tell them to use the \"Forgot password\" option.\n",
    "\n",
    "---\n",
    "Appointment Request\n",
    "- Guide users to click on “New application” or “My application in process”.\n",
    "- Explain that they can apply for themselves or others (spouse, child, etc.).\n",
    "- Inform that beneficiaries’ info must be filled and reviewed carefully.\n",
    "- Services shown depend on the beneficiary’s age and residence status (e.g., passport renewals are for residents abroad only).\n",
    "- Make sure the user confirms the form before proceeding.\n",
    "\n",
    "---\n",
    "Choosing Services & Adding Beneficiaries\n",
    "- To select services, use the \"Pen\" icon under \"Services required\".\n",
    "- To add more people, click \"Add a beneficiary\" (group appointment).\n",
    "- For each person, select the relevant services and check if anything is missing.\n",
    "\n",
    "---\n",
    "Document Upload & Submission\n",
    "- Remind users to scan and upload documents with a red asterisk (*).\n",
    "- Tell them to click “Save and Exit” to avoid losing progress.\n",
    "- After finishing, they must click “Confirm” to submit the application.\n",
    "- Emphasize that original documents must be brought to the appointment.\n",
    "\n",
    "---\n",
    "Scheduling an Appointment\n",
    "- Once the consulate processes the request, the user will receive an email to select a time slot.\n",
    "- Tell them to confirm the date by clicking \"Send\".\n",
    "- After confirmation, a Confirmation Letter is sent by email.\n",
    "\n",
    "---\n",
    "Visit Day\n",
    "- Remind users to arrive on time with:\n",
    "  - Confirmation Letter\n",
    "  - Original documents and copies\n",
    "  - Photographs\n",
    "- Presence of the beneficiary is mandatory, and minors must be accompanied.\n",
    "\n",
    "---\n",
    "Important Notes\n",
    "- Users can update beneficiary info when submitting a new application.\n",
    "- Missing an appointment requires rescheduling.\n",
    "- Collection of documents (passport, ID, notary papers) does not require an appointment.\n",
    "- If emails are not received, check SPAM, Junk, or Promotions folders.\n",
    "\n",
    "---\n",
    "Support\n",
    "- For help, guide users to:\n",
    "  - Use the “My request” option on their consular space\n",
    "  - Call the Consular Call Center\n",
    "  - Or visit www.consulat.ma\n",
    "\"\"\"\n"
   ]
  },
  {
   "cell_type": "markdown",
   "id": "3847aa49-2782-4578-9a76-2a230525c211",
   "metadata": {},
   "source": [
    "# AI response Generator"
   ]
  },
  {
   "cell_type": "code",
   "execution_count": 6,
   "id": "1de18b7b-a405-45a3-afd7-755a312141cc",
   "metadata": {},
   "outputs": [],
   "source": [
    "def chat(message, history):\n",
    "    propmt = [{'role': 'system', 'content': system_content}] + history + [{'role': 'user', 'content': message}]\n",
    "\n",
    "    stream = openai.chat.completions.create(model=MODEL, messages=propmt, stream=True)\n",
    "\n",
    "    response = \"\"\n",
    "    for chunk in stream:\n",
    "        response += chunk.choices[0].delta.content or ''\n",
    "        yield response"
   ]
  },
  {
   "cell_type": "markdown",
   "id": "5cd5a4c8-8566-4167-847f-2d219dd7a74a",
   "metadata": {},
   "source": [
    "# Start Chat"
   ]
  },
  {
   "cell_type": "code",
   "execution_count": 7,
   "id": "71e96cce-24dc-4397-b26e-19eddd4855e1",
   "metadata": {},
   "outputs": [
    {
     "name": "stdout",
     "output_type": "stream",
     "text": [
      "* Running on local URL:  http://127.0.0.1:7860\n",
      "* To create a public link, set `share=True` in `launch()`.\n"
     ]
    },
    {
     "data": {
      "text/html": [
       "<div><iframe src=\"http://127.0.0.1:7860/\" width=\"100%\" height=\"500\" allow=\"autoplay; camera; microphone; clipboard-read; clipboard-write;\" frameborder=\"0\" allowfullscreen></iframe></div>"
      ],
      "text/plain": [
       "<IPython.core.display.HTML object>"
      ]
     },
     "metadata": {},
     "output_type": "display_data"
    },
    {
     "data": {
      "text/plain": []
     },
     "execution_count": 7,
     "metadata": {},
     "output_type": "execute_result"
    }
   ],
   "source": [
    "gr.ChatInterface(fn=chat, type='messages').launch()"
   ]
  },
  {
   "cell_type": "code",
   "execution_count": null,
   "id": "61b824b5-9295-4f29-a6bf-885ffc999175",
   "metadata": {},
   "outputs": [],
   "source": []
  }
 ],
 "metadata": {
  "kernelspec": {
   "display_name": "Python 3 (ipykernel)",
   "language": "python",
   "name": "python3"
  },
  "language_info": {
   "codemirror_mode": {
    "name": "ipython",
    "version": 3
   },
   "file_extension": ".py",
   "mimetype": "text/x-python",
   "name": "python",
   "nbconvert_exporter": "python",
   "pygments_lexer": "ipython3",
   "version": "3.11.13"
  }
 },
 "nbformat": 4,
 "nbformat_minor": 5
}
